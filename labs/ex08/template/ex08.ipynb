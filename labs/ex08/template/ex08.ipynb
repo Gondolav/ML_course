{
 "cells": [
  {
   "cell_type": "code",
   "execution_count": 41,
   "metadata": {},
   "outputs": [
    {
     "name": "stdout",
     "output_type": "stream",
     "text": [
      "The autoreload extension is already loaded. To reload it, use:\n",
      "  %reload_ext autoreload\n"
     ]
    }
   ],
   "source": [
    "# Useful starting lines\n",
    "%matplotlib inline\n",
    "import numpy as np\n",
    "import matplotlib.pyplot as plt\n",
    "%load_ext autoreload\n",
    "%autoreload 2"
   ]
  },
  {
   "cell_type": "markdown",
   "metadata": {},
   "source": [
    "## Load data"
   ]
  },
  {
   "cell_type": "code",
   "execution_count": 42,
   "metadata": {},
   "outputs": [
    {
     "data": {
      "text/plain": [
       "(272, 2)"
      ]
     },
     "execution_count": 42,
     "metadata": {},
     "output_type": "execute_result"
    }
   ],
   "source": [
    "from helper import load_data, normalize_data\n",
    "\n",
    "data = load_data()\n",
    "data.shape"
   ]
  },
  {
   "cell_type": "markdown",
   "metadata": {},
   "source": [
    "### Initialize your cluster centers"
   ]
  },
  {
   "cell_type": "code",
   "execution_count": 43,
   "metadata": {},
   "outputs": [],
   "source": [
    "def initialize_clusters(data, k):\n",
    "    \"\"\"initialize the k cluster centers (the means).\n",
    "    input:\n",
    "        data: original data with shape (num_sample, num_feature).\n",
    "        k: predefined number of clusters for the k-means algorithm.\n",
    "    output:\n",
    "        a numpy array with shape (k, num_feature)\n",
    "    \"\"\"\n",
    "    # ***************************************************************************************************\n",
    "    # INSERT YOUR CODE HERE\n",
    "    # TODO: initialize cluster centers.\n",
    "    # TODO: Make sure you choose k clusters from the data itself,\n",
    "    #       or ensure otherwise that your initializations have the same scaling as the data\n",
    "    # ***************************************************************************************************\n",
    "    indices = np.random.choice(data.shape[0], size=k) \n",
    "    return data[indices]"
   ]
  },
  {
   "cell_type": "markdown",
   "metadata": {},
   "source": [
    "### Update k-means parameters"
   ]
  },
  {
   "cell_type": "markdown",
   "metadata": {},
   "source": [
    "#### Build distance matrix\n",
    "Build a distance matrix, collecting the distances of the original dataset to the means of the clusters.\n",
    "\n",
    "NOTE: once you finish your `build_distance_matrix`, please copy the function to the `helper.py` function. Otherwise, the `kmeans` function will not work."
   ]
  },
  {
   "cell_type": "code",
   "execution_count": 50,
   "metadata": {},
   "outputs": [],
   "source": [
    "def build_distance_matrix(data, mu):\n",
    "    \"\"\"build a distance matrix.\n",
    "    return\n",
    "        distance matrix:\n",
    "            row of the matrix represents the data point,\n",
    "            column of the matrix represents the k-th cluster.\n",
    "    \"\"\"\n",
    "    # ***************************************************\n",
    "    # INSERT YOUR CODE HERE\n",
    "    # TODO: build distance matrix\n",
    "    # ***************************************************\n",
    "    distance_list = []\n",
    "    num_cluster, _ = mu.shape\n",
    "    for k_th in range(num_cluster):\n",
    "        sum_squares = np.sum(np.square(data - mu[k_th, :]), axis=1)\n",
    "        distance_list.append(sum_squares)\n",
    "    return np.array(distance_list).T"
   ]
  },
  {
   "cell_type": "markdown",
   "metadata": {},
   "source": [
    "#### Update k-means parameters"
   ]
  },
  {
   "cell_type": "code",
   "execution_count": 53,
   "metadata": {},
   "outputs": [],
   "source": [
    "def update_kmeans_parameters(data, mu_old):\n",
    "    \"\"\"update the parameter of kmeans\n",
    "    return:\n",
    "        losses: loss of each data point with shape (num_samples, 1)\n",
    "        assignments: assignments vector z with shape (num_samples, 1)\n",
    "        mu: mean vector mu with shape (k, num_features)\n",
    "    \"\"\"\n",
    "    # ***************************************************\n",
    "    # INSERT YOUR CODE HERE\n",
    "    # TODO: update kmeans parameters\n",
    "    # ***************************************************\n",
    "    dist_m = build_distance_matrix(data, mu_old)\n",
    "    losses = np.min(dist_m, axis=1)\n",
    "    assignments = np.argmin(dist_m, axis=1)\n",
    "\n",
    "    mu = np.zeros((mu_old.shape[0], data.shape[1]))\n",
    "    for i in range(mu_old.shape[0]):\n",
    "        rows = np.where(assignments == i)\n",
    "        mu[i, :] = np.mean(np.squeeze(data[rows, :]), axis=0)\n",
    "        \n",
    "    return losses, assignments, mu"
   ]
  },
  {
   "cell_type": "markdown",
   "metadata": {},
   "source": [
    "#### Play with k-means"
   ]
  },
  {
   "cell_type": "code",
   "execution_count": 54,
   "metadata": {
    "scrolled": false
   },
   "outputs": [
    {
     "name": "stdout",
     "output_type": "stream",
     "text": [
      "The current iteration of k-means is: 0,                the average loss is 198.04657275735292.\n"
     ]
    },
    {
     "data": {
      "image/png": "[encoded data removed]",
      "text/plain": [
       "<Figure size 432x288 with 2 Axes>"
      ]
     },
     "metadata": {
      "needs_background": "light"
     },
     "output_type": "display_data"
    },
    {
     "name": "stdout",
     "output_type": "stream",
     "text": [
      "The current iteration of k-means is: 1,                the average loss is 51.14912250998764.\n"
     ]
    },
    {
     "data": {
      "image/png": "[encoded data removed]",
      "text/plain": [
       "<Figure size 432x288 with 2 Axes>"
      ]
     },
     "metadata": {
      "needs_background": "light"
     },
     "output_type": "display_data"
    },
    {
     "name": "stdout",
     "output_type": "stream",
     "text": [
      "The current iteration of k-means is: 2,                the average loss is 34.18718280197384.\n"
     ]
    },
    {
     "data": {
      "image/png": "[encoded data removed]",
      "text/plain": [
       "<Figure size 432x288 with 2 Axes>"
      ]
     },
     "metadata": {
      "needs_background": "light"
     },
     "output_type": "display_data"
    },
    {
     "name": "stdout",
     "output_type": "stream",
     "text": [
      "The current iteration of k-means is: 3,                the average loss is 32.73675733630585.\n"
     ]
    },
    {
     "data": {
      "image/png": "[encoded data removed]",
      "text/plain": [
       "<Figure size 432x288 with 2 Axes>"
      ]
     },
     "metadata": {
      "needs_background": "light"
     },
     "output_type": "display_data"
    },
    {
     "name": "stdout",
     "output_type": "stream",
     "text": [
      "The current iteration of k-means is: 4,                the average loss is 32.72709088583533.\n"
     ]
    },
    {
     "data": {
      "image/png": "[encoded data removed]",
      "text/plain": [
       "<Figure size 432x288 with 2 Axes>"
      ]
     },
     "metadata": {
      "needs_background": "light"
     },
     "output_type": "display_data"
    },
    {
     "name": "stdout",
     "output_type": "stream",
     "text": [
      "The current iteration of k-means is: 5,                the average loss is 32.72709088583533.\n"
     ]
    }
   ],
   "source": [
    "from helper import build_dir\n",
    "from plots import plot\n",
    "\n",
    "def kmeans(data, k, max_iters, threshold):\n",
    "    \"\"\"run the k-means algorithm.\"\"\"\n",
    "    output_figure = \"kmeans_figures/\"\n",
    "    # initialize the cluster.\n",
    "    mu_old = initialize_clusters(data, k)\n",
    "    # init some empty lists to store the result.\n",
    "    loss_list = []\n",
    "\n",
    "    # start the kmeans algorithm.\n",
    "    for iter in range(max_iters):\n",
    "        # update z and mu\n",
    "        losses, assignments, mu = update_kmeans_parameters(data, mu_old)\n",
    "        # calculate the average loss over all points\n",
    "        average_loss = np.mean(losses)\n",
    "        loss_list.append(average_loss)\n",
    "        print(\"The current iteration of k-means is: {i}, \\\n",
    "               the average loss is {l}.\".format(i=iter, l=average_loss))\n",
    "        # check converge\n",
    "        if iter > 0 and np.abs(loss_list[-1] - loss_list[-2]) < threshold:\n",
    "            break\n",
    "        # output plot\n",
    "        plot(data, mu, mu_old, output_figure + \"kmean_iter{i}\".format(i=iter))\n",
    "        # update k-means information.\n",
    "        mu_old = mu\n",
    "\n",
    "# define parameters\n",
    "k = 2\n",
    "max_iters = 10\n",
    "threshold = 1e-5\n",
    "output_figure = \"kmeans_figures/\"\n",
    "\n",
    "# build figure dir\n",
    "build_dir(output_figure)\n",
    "\n",
    "# run kmeans algorithm\n",
    "kmeans(data, k, max_iters, threshold)"
   ]
  },
  {
   "cell_type": "markdown",
   "metadata": {},
   "source": [
    "## Using k-means for image compresson"
   ]
  },
  {
   "cell_type": "markdown",
   "metadata": {},
   "source": [
    "#### load image"
   ]
  },
  {
   "cell_type": "code",
   "execution_count": 7,
   "metadata": {},
   "outputs": [
    {
     "name": "stdout",
     "output_type": "stream",
     "text": [
      "Original image: the shape of image=(480, 480, 3), the data type=uint8.\n"
     ]
    }
   ],
   "source": [
    "from helper import load_image\n",
    "\n",
    "image_path = \"mandrill.png\"\n",
    "original_image = load_image(image_path)\n",
    "print(\n",
    "    \"Original image: the shape of image={s}, the data type={dt}.\".format(\n",
    "        s=original_image.shape, dt=original_image.dtype))"
   ]
  },
  {
   "cell_type": "markdown",
   "metadata": {},
   "source": [
    "#### preprocess image"
   ]
  },
  {
   "cell_type": "code",
   "execution_count": null,
   "metadata": {},
   "outputs": [],
   "source": [
    "def preprocess_image(original_image):\n",
    "    \"\"\"preprocess the image.\"\"\"\n",
    "    # ***************************************************\n",
    "    # INSERT YOUR CODE HERE\n",
    "    # TODO: make pixel values of each color (which is a matrix) \n",
    "    # into a vector. **don't normalize!**\n",
    "    # ***************************************************  \n",
    "    return processed_image\n",
    "\n",
    "processed_image = preprocess_image(original_image)"
   ]
  },
  {
   "cell_type": "code",
   "execution_count": null,
   "metadata": {},
   "outputs": [],
   "source": [
    "from plots import plot_image_compression\n",
    "\n",
    "def kmean_compression(original_image, processed_image, k, max_iters, threshold):\n",
    "    \"\"\"using k-means for image compression.\"\"\"\n",
    "    # ***************************************************\n",
    "    # INSERT YOUR CODE HERE\n",
    "    # TODO: use kmean to compress the image.\n",
    "    # *************************************************** \n",
    "    raise NotImplementedError\n",
    "\n",
    "    # plot histogram\n",
    "    plot_image_compression(original_image, processed_image, assignments, mu, k)\n",
    "\n",
    "# define parameters\n",
    "k = 5\n",
    "max_iter = 100\n",
    "threshold = 1e-6\n",
    "\n",
    "# use kmeans to compress image\n",
    "kmean_compression(original_image, processed_image, k, max_iter, threshold)"
   ]
  },
  {
   "cell_type": "code",
   "execution_count": null,
   "metadata": {
    "collapsed": true
   },
   "outputs": [],
   "source": []
  }
 ],
 "metadata": {
  "anaconda-cloud": {},
  "kernelspec": {
   "display_name": "Python 3",
   "language": "python",
   "name": "python3"
  },
  "language_info": {
   "codemirror_mode": {
    "name": "ipython",
    "version": 3
   },
   "file_extension": ".py",
   "mimetype": "text/x-python",
   "name": "python",
   "nbconvert_exporter": "python",
   "pygments_lexer": "ipython3",
   "version": "3.7.3"
  }
 },
 "nbformat": 4,
 "nbformat_minor": 1
}
